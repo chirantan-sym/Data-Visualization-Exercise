{
 "cells": [
  {
   "cell_type": "markdown",
   "id": "51bdee2e",
   "metadata": {
    "papermill": {
     "duration": 0.01519,
     "end_time": "2023-07-03T17:29:05.001735",
     "exception": false,
     "start_time": "2023-07-03T17:29:04.986545",
     "status": "completed"
    },
    "tags": []
   },
   "source": [
    "**This notebook is an exercise in the [Data Visualization](https://www.kaggle.com/learn/data-visualization) course.  You can reference the tutorial at [this link](https://www.kaggle.com/alexisbcook/scatter-plots).**\n",
    "\n",
    "---\n"
   ]
  },
  {
   "cell_type": "markdown",
   "id": "15de710f",
   "metadata": {
    "papermill": {
     "duration": 0.011447,
     "end_time": "2023-07-03T17:29:05.027698",
     "exception": false,
     "start_time": "2023-07-03T17:29:05.016251",
     "status": "completed"
    },
    "tags": []
   },
   "source": [
    "In this exercise, you will use your new knowledge to propose a solution to a real-world scenario.  To succeed, you will need to import data into Python, answer questions using the data, and generate **scatter plots** to understand patterns in the data.\n",
    "\n",
    "## Scenario\n",
    "\n",
    "You work for a major candy producer, and your goal is to write a report that your company can use to guide the design of its next product.  Soon after starting your research, you stumble across this [very interesting dataset](https://fivethirtyeight.com/features/the-ultimate-halloween-candy-power-ranking/) containing results from a fun survey to crowdsource favorite candies.\n",
    "\n",
    "## Setup\n",
    "\n",
    "Run the next cell to import and configure the Python libraries that you need to complete the exercise."
   ]
  },
  {
   "cell_type": "code",
   "execution_count": 1,
   "id": "133ea662",
   "metadata": {
    "execution": {
     "iopub.execute_input": "2023-07-03T17:29:05.054509Z",
     "iopub.status.busy": "2023-07-03T17:29:05.053396Z",
     "iopub.status.idle": "2023-07-03T17:29:06.884948Z",
     "shell.execute_reply": "2023-07-03T17:29:06.883671Z"
    },
    "papermill": {
     "duration": 1.849057,
     "end_time": "2023-07-03T17:29:06.888526",
     "exception": false,
     "start_time": "2023-07-03T17:29:05.039469",
     "status": "completed"
    },
    "tags": []
   },
   "outputs": [
    {
     "name": "stdout",
     "output_type": "stream",
     "text": [
      "Setup Complete\n"
     ]
    }
   ],
   "source": [
    "import pandas as pd\n",
    "pd.plotting.register_matplotlib_converters()\n",
    "import matplotlib.pyplot as plt\n",
    "%matplotlib inline\n",
    "import seaborn as sns\n",
    "print(\"Setup Complete\")"
   ]
  },
  {
   "cell_type": "markdown",
   "id": "9aa30140",
   "metadata": {
    "papermill": {
     "duration": 0.011652,
     "end_time": "2023-07-03T17:29:06.912399",
     "exception": false,
     "start_time": "2023-07-03T17:29:06.900747",
     "status": "completed"
    },
    "tags": []
   },
   "source": [
    "The questions below will give you feedback on your work. Run the following cell to set up our feedback system."
   ]
  },
  {
   "cell_type": "code",
   "execution_count": 2,
   "id": "8bb550ba",
   "metadata": {
    "execution": {
     "iopub.execute_input": "2023-07-03T17:29:06.938743Z",
     "iopub.status.busy": "2023-07-03T17:29:06.938260Z",
     "iopub.status.idle": "2023-07-03T17:29:07.027644Z",
     "shell.execute_reply": "2023-07-03T17:29:07.026298Z"
    },
    "papermill": {
     "duration": 0.105902,
     "end_time": "2023-07-03T17:29:07.030442",
     "exception": false,
     "start_time": "2023-07-03T17:29:06.924540",
     "status": "completed"
    },
    "tags": []
   },
   "outputs": [
    {
     "name": "stdout",
     "output_type": "stream",
     "text": [
      "Setup Complete\n"
     ]
    }
   ],
   "source": [
    "# Set up code checking\n",
    "import os\n",
    "if not os.path.exists(\"../input/candy.csv\"):\n",
    "    os.symlink(\"../input/data-for-datavis/candy.csv\", \"../input/candy.csv\") \n",
    "from learntools.core import binder\n",
    "binder.bind(globals())\n",
    "from learntools.data_viz_to_coder.ex4 import *\n",
    "print(\"Setup Complete\")"
   ]
  },
  {
   "cell_type": "markdown",
   "id": "6cd6acfb",
   "metadata": {
    "papermill": {
     "duration": 0.011924,
     "end_time": "2023-07-03T17:29:07.054962",
     "exception": false,
     "start_time": "2023-07-03T17:29:07.043038",
     "status": "completed"
    },
    "tags": []
   },
   "source": [
    "## Step 1: Load the Data\n",
    "\n",
    "Read the candy data file into `candy_data`.  Use the `\"id\"` column to label the rows."
   ]
  },
  {
   "cell_type": "code",
   "execution_count": 3,
   "id": "da9b6219",
   "metadata": {
    "execution": {
     "iopub.execute_input": "2023-07-03T17:29:07.082907Z",
     "iopub.status.busy": "2023-07-03T17:29:07.081920Z",
     "iopub.status.idle": "2023-07-03T17:29:07.105114Z",
     "shell.execute_reply": "2023-07-03T17:29:07.103634Z"
    },
    "papermill": {
     "duration": 0.04081,
     "end_time": "2023-07-03T17:29:07.108070",
     "exception": false,
     "start_time": "2023-07-03T17:29:07.067260",
     "status": "completed"
    },
    "tags": []
   },
   "outputs": [
    {
     "data": {
      "application/javascript": [
       "parent.postMessage({\"jupyterEvent\": \"custom.exercise_interaction\", \"data\": {\"outcomeType\": 1, \"valueTowardsCompletion\": 0.3333333333333333, \"interactionType\": 1, \"questionType\": 1, \"questionId\": \"1_LoadData\", \"learnToolsVersion\": \"0.3.4\", \"failureMessage\": \"\", \"exceptionClass\": \"\", \"trace\": \"\"}}, \"*\")"
      ],
      "text/plain": [
       "<IPython.core.display.Javascript object>"
      ]
     },
     "metadata": {},
     "output_type": "display_data"
    },
    {
     "data": {
      "text/markdown": [
       "<span style=\"color:#33cc33\">Correct</span>"
      ],
      "text/plain": [
       "Correct"
      ]
     },
     "metadata": {},
     "output_type": "display_data"
    }
   ],
   "source": [
    "# Path of the file to read\n",
    "candy_filepath = \"../input/candy.csv\"\n",
    "\n",
    "# Fill in the line below to read the file into a variable candy_data\n",
    "candy_data = pd.read_csv(candy_filepath, index_col=\"id\")\n",
    "\n",
    "# Run the line below with no changes to check that you've loaded the data correctly\n",
    "step_1.check()"
   ]
  },
  {
   "cell_type": "code",
   "execution_count": 4,
   "id": "911211c4",
   "metadata": {
    "execution": {
     "iopub.execute_input": "2023-07-03T17:29:07.136028Z",
     "iopub.status.busy": "2023-07-03T17:29:07.135530Z",
     "iopub.status.idle": "2023-07-03T17:29:07.140945Z",
     "shell.execute_reply": "2023-07-03T17:29:07.139260Z"
    },
    "papermill": {
     "duration": 0.023151,
     "end_time": "2023-07-03T17:29:07.144036",
     "exception": false,
     "start_time": "2023-07-03T17:29:07.120885",
     "status": "completed"
    },
    "tags": []
   },
   "outputs": [],
   "source": [
    "# Lines below will give you a hint or solution code\n",
    "#step_1.hint()\n",
    "#step_1.solution()"
   ]
  },
  {
   "cell_type": "markdown",
   "id": "1fe76320",
   "metadata": {
    "papermill": {
     "duration": 0.01211,
     "end_time": "2023-07-03T17:29:07.168993",
     "exception": false,
     "start_time": "2023-07-03T17:29:07.156883",
     "status": "completed"
    },
    "tags": []
   },
   "source": [
    "## Step 2: Review the data\n",
    "\n",
    "Use a Python command to print the first five rows of the data."
   ]
  },
  {
   "cell_type": "code",
   "execution_count": 5,
   "id": "59cd1c1c",
   "metadata": {
    "execution": {
     "iopub.execute_input": "2023-07-03T17:29:07.196314Z",
     "iopub.status.busy": "2023-07-03T17:29:07.195880Z",
     "iopub.status.idle": "2023-07-03T17:29:07.230804Z",
     "shell.execute_reply": "2023-07-03T17:29:07.229650Z"
    },
    "papermill": {
     "duration": 0.051452,
     "end_time": "2023-07-03T17:29:07.233336",
     "exception": false,
     "start_time": "2023-07-03T17:29:07.181884",
     "status": "completed"
    },
    "tags": []
   },
   "outputs": [
    {
     "data": {
      "text/html": [
       "<div>\n",
       "<style scoped>\n",
       "    .dataframe tbody tr th:only-of-type {\n",
       "        vertical-align: middle;\n",
       "    }\n",
       "\n",
       "    .dataframe tbody tr th {\n",
       "        vertical-align: top;\n",
       "    }\n",
       "\n",
       "    .dataframe thead th {\n",
       "        text-align: right;\n",
       "    }\n",
       "</style>\n",
       "<table border=\"1\" class=\"dataframe\">\n",
       "  <thead>\n",
       "    <tr style=\"text-align: right;\">\n",
       "      <th></th>\n",
       "      <th>competitorname</th>\n",
       "      <th>chocolate</th>\n",
       "      <th>fruity</th>\n",
       "      <th>caramel</th>\n",
       "      <th>peanutyalmondy</th>\n",
       "      <th>nougat</th>\n",
       "      <th>crispedricewafer</th>\n",
       "      <th>hard</th>\n",
       "      <th>bar</th>\n",
       "      <th>pluribus</th>\n",
       "      <th>sugarpercent</th>\n",
       "      <th>pricepercent</th>\n",
       "      <th>winpercent</th>\n",
       "    </tr>\n",
       "    <tr>\n",
       "      <th>id</th>\n",
       "      <th></th>\n",
       "      <th></th>\n",
       "      <th></th>\n",
       "      <th></th>\n",
       "      <th></th>\n",
       "      <th></th>\n",
       "      <th></th>\n",
       "      <th></th>\n",
       "      <th></th>\n",
       "      <th></th>\n",
       "      <th></th>\n",
       "      <th></th>\n",
       "      <th></th>\n",
       "    </tr>\n",
       "  </thead>\n",
       "  <tbody>\n",
       "    <tr>\n",
       "      <th>0</th>\n",
       "      <td>100 Grand</td>\n",
       "      <td>Yes</td>\n",
       "      <td>No</td>\n",
       "      <td>Yes</td>\n",
       "      <td>No</td>\n",
       "      <td>No</td>\n",
       "      <td>Yes</td>\n",
       "      <td>No</td>\n",
       "      <td>Yes</td>\n",
       "      <td>No</td>\n",
       "      <td>0.732</td>\n",
       "      <td>0.860</td>\n",
       "      <td>66.971725</td>\n",
       "    </tr>\n",
       "    <tr>\n",
       "      <th>1</th>\n",
       "      <td>3 Musketeers</td>\n",
       "      <td>Yes</td>\n",
       "      <td>No</td>\n",
       "      <td>No</td>\n",
       "      <td>No</td>\n",
       "      <td>Yes</td>\n",
       "      <td>No</td>\n",
       "      <td>No</td>\n",
       "      <td>Yes</td>\n",
       "      <td>No</td>\n",
       "      <td>0.604</td>\n",
       "      <td>0.511</td>\n",
       "      <td>67.602936</td>\n",
       "    </tr>\n",
       "    <tr>\n",
       "      <th>2</th>\n",
       "      <td>Air Heads</td>\n",
       "      <td>No</td>\n",
       "      <td>Yes</td>\n",
       "      <td>No</td>\n",
       "      <td>No</td>\n",
       "      <td>No</td>\n",
       "      <td>No</td>\n",
       "      <td>No</td>\n",
       "      <td>No</td>\n",
       "      <td>No</td>\n",
       "      <td>0.906</td>\n",
       "      <td>0.511</td>\n",
       "      <td>52.341465</td>\n",
       "    </tr>\n",
       "    <tr>\n",
       "      <th>3</th>\n",
       "      <td>Almond Joy</td>\n",
       "      <td>Yes</td>\n",
       "      <td>No</td>\n",
       "      <td>No</td>\n",
       "      <td>Yes</td>\n",
       "      <td>No</td>\n",
       "      <td>No</td>\n",
       "      <td>No</td>\n",
       "      <td>Yes</td>\n",
       "      <td>No</td>\n",
       "      <td>0.465</td>\n",
       "      <td>0.767</td>\n",
       "      <td>50.347546</td>\n",
       "    </tr>\n",
       "    <tr>\n",
       "      <th>4</th>\n",
       "      <td>Baby Ruth</td>\n",
       "      <td>Yes</td>\n",
       "      <td>No</td>\n",
       "      <td>Yes</td>\n",
       "      <td>Yes</td>\n",
       "      <td>Yes</td>\n",
       "      <td>No</td>\n",
       "      <td>No</td>\n",
       "      <td>Yes</td>\n",
       "      <td>No</td>\n",
       "      <td>0.604</td>\n",
       "      <td>0.767</td>\n",
       "      <td>56.914547</td>\n",
       "    </tr>\n",
       "  </tbody>\n",
       "</table>\n",
       "</div>"
      ],
      "text/plain": [
       "   competitorname chocolate fruity caramel peanutyalmondy nougat  \\\n",
       "id                                                                 \n",
       "0       100 Grand       Yes     No     Yes             No     No   \n",
       "1    3 Musketeers       Yes     No      No             No    Yes   \n",
       "2       Air Heads        No    Yes      No             No     No   \n",
       "3      Almond Joy       Yes     No      No            Yes     No   \n",
       "4       Baby Ruth       Yes     No     Yes            Yes    Yes   \n",
       "\n",
       "   crispedricewafer hard  bar pluribus  sugarpercent  pricepercent  winpercent  \n",
       "id                                                                              \n",
       "0               Yes   No  Yes       No         0.732         0.860   66.971725  \n",
       "1                No   No  Yes       No         0.604         0.511   67.602936  \n",
       "2                No   No   No       No         0.906         0.511   52.341465  \n",
       "3                No   No  Yes       No         0.465         0.767   50.347546  \n",
       "4                No   No  Yes       No         0.604         0.767   56.914547  "
      ]
     },
     "execution_count": 5,
     "metadata": {},
     "output_type": "execute_result"
    }
   ],
   "source": [
    "# Print the first five rows of the data\n",
    "candy_data.head() # Your code here"
   ]
  },
  {
   "cell_type": "markdown",
   "id": "87830ea9",
   "metadata": {
    "papermill": {
     "duration": 0.01197,
     "end_time": "2023-07-03T17:29:07.257753",
     "exception": false,
     "start_time": "2023-07-03T17:29:07.245783",
     "status": "completed"
    },
    "tags": []
   },
   "source": [
    "The dataset contains 83 rows, where each corresponds to a different candy bar.  There are 13 columns:\n",
    "- `'competitorname'` contains the name of the candy bar. \n",
    "- the next **9** columns (from `'chocolate'` to `'pluribus'`) describe the candy.  For instance, rows with chocolate candies have `\"Yes\"` in the `'chocolate'` column (and candies without chocolate have `\"No\"` in the same column).\n",
    "- `'sugarpercent'` provides some indication of the amount of sugar, where higher values signify higher sugar content.\n",
    "- `'pricepercent'` shows the price per unit, relative to the other candies in the dataset.\n",
    "- `'winpercent'` is calculated from the survey results; higher values indicate that the candy was more popular with survey respondents.\n",
    "\n",
    "Use the first five rows of the data to answer the questions below."
   ]
  },
  {
   "cell_type": "code",
   "execution_count": 6,
   "id": "3d4e8be1",
   "metadata": {
    "execution": {
     "iopub.execute_input": "2023-07-03T17:29:07.286662Z",
     "iopub.status.busy": "2023-07-03T17:29:07.285701Z",
     "iopub.status.idle": "2023-07-03T17:29:07.295515Z",
     "shell.execute_reply": "2023-07-03T17:29:07.294098Z"
    },
    "papermill": {
     "duration": 0.02782,
     "end_time": "2023-07-03T17:29:07.297814",
     "exception": false,
     "start_time": "2023-07-03T17:29:07.269994",
     "status": "completed"
    },
    "tags": []
   },
   "outputs": [
    {
     "data": {
      "application/javascript": [
       "parent.postMessage({\"jupyterEvent\": \"custom.exercise_interaction\", \"data\": {\"outcomeType\": 1, \"valueTowardsCompletion\": 0.3333333333333333, \"interactionType\": 1, \"questionType\": 1, \"questionId\": \"2_ReviewData\", \"learnToolsVersion\": \"0.3.4\", \"failureMessage\": \"\", \"exceptionClass\": \"\", \"trace\": \"\"}}, \"*\")"
      ],
      "text/plain": [
       "<IPython.core.display.Javascript object>"
      ]
     },
     "metadata": {},
     "output_type": "display_data"
    },
    {
     "data": {
      "text/markdown": [
       "<span style=\"color:#33cc33\">Correct</span>"
      ],
      "text/plain": [
       "Correct"
      ]
     },
     "metadata": {},
     "output_type": "display_data"
    }
   ],
   "source": [
    "# Fill in the line below: Which candy was more popular with survey respondents:\n",
    "# '3 Musketeers' or 'Almond Joy'?  (Please enclose your answer in single quotes.)\n",
    "more_popular = '3 Musketeers'\n",
    "\n",
    "# Fill in the line below: Which candy has higher sugar content: 'Air Heads'\n",
    "# or 'Baby Ruth'? (Please enclose your answer in single quotes.)\n",
    "more_sugar = 'Air Heads'\n",
    "\n",
    "# Check your answers\n",
    "step_2.check()"
   ]
  },
  {
   "cell_type": "code",
   "execution_count": 7,
   "id": "a5e07a87",
   "metadata": {
    "execution": {
     "iopub.execute_input": "2023-07-03T17:29:07.325493Z",
     "iopub.status.busy": "2023-07-03T17:29:07.324627Z",
     "iopub.status.idle": "2023-07-03T17:29:07.329381Z",
     "shell.execute_reply": "2023-07-03T17:29:07.328494Z"
    },
    "papermill": {
     "duration": 0.021548,
     "end_time": "2023-07-03T17:29:07.331908",
     "exception": false,
     "start_time": "2023-07-03T17:29:07.310360",
     "status": "completed"
    },
    "tags": []
   },
   "outputs": [],
   "source": [
    "# Lines below will give you a hint or solution code\n",
    "#step_2.hint()\n",
    "#step_2.solution()"
   ]
  },
  {
   "cell_type": "markdown",
   "id": "014f0e3c",
   "metadata": {
    "papermill": {
     "duration": 0.012126,
     "end_time": "2023-07-03T17:29:07.356614",
     "exception": false,
     "start_time": "2023-07-03T17:29:07.344488",
     "status": "completed"
    },
    "tags": []
   },
   "source": [
    "## Step 3: The role of sugar\n",
    "\n",
    "Do people tend to prefer candies with higher sugar content?  \n",
    "\n",
    "#### Part A\n",
    "\n",
    "Create a scatter plot that shows the relationship between `'sugarpercent'` (on the horizontal x-axis) and `'winpercent'` (on the vertical y-axis).  _Don't add a regression line just yet -- you'll do that in the next step!_"
   ]
  },
  {
   "cell_type": "code",
   "execution_count": 8,
   "id": "414e5d61",
   "metadata": {
    "execution": {
     "iopub.execute_input": "2023-07-03T17:29:07.384323Z",
     "iopub.status.busy": "2023-07-03T17:29:07.383401Z",
     "iopub.status.idle": "2023-07-03T17:29:07.758995Z",
     "shell.execute_reply": "2023-07-03T17:29:07.757785Z"
    },
    "papermill": {
     "duration": 0.393424,
     "end_time": "2023-07-03T17:29:07.762635",
     "exception": false,
     "start_time": "2023-07-03T17:29:07.369211",
     "status": "completed"
    },
    "tags": []
   },
   "outputs": [
    {
     "data": {
      "application/javascript": [
       "parent.postMessage({\"jupyterEvent\": \"custom.exercise_interaction\", \"data\": {\"outcomeType\": 1, \"valueTowardsCompletion\": 0.3333333333333333, \"interactionType\": 1, \"questionType\": 2, \"questionId\": \"3.1_PlotBlueScatter\", \"learnToolsVersion\": \"0.3.4\", \"failureMessage\": \"\", \"exceptionClass\": \"\", \"trace\": \"\"}}, \"*\")"
      ],
      "text/plain": [
       "<IPython.core.display.Javascript object>"
      ]
     },
     "metadata": {},
     "output_type": "display_data"
    },
    {
     "data": {
      "text/markdown": [
       "<span style=\"color:#33cc33\">Correct</span>"
      ],
      "text/plain": [
       "Correct"
      ]
     },
     "metadata": {},
     "output_type": "display_data"
    },
    {
     "data": {
      "image/png": "[encoded data removed]",
      "text/plain": [
       "<Figure size 640x480 with 1 Axes>"
      ]
     },
     "metadata": {},
     "output_type": "display_data"
    }
   ],
   "source": [
    "# Scatter plot showing the relationship between 'sugarpercent' and 'winpercent'\n",
    "sns.scatterplot(x=candy_data['sugarpercent'], y=candy_data['winpercent']) # Your code here\n",
    "\n",
    "# Check your answer\n",
    "step_3.a.check()"
   ]
  },
  {
   "cell_type": "code",
   "execution_count": 9,
   "id": "632ddd92",
   "metadata": {
    "execution": {
     "iopub.execute_input": "2023-07-03T17:29:07.792129Z",
     "iopub.status.busy": "2023-07-03T17:29:07.791711Z",
     "iopub.status.idle": "2023-07-03T17:29:07.797221Z",
     "shell.execute_reply": "2023-07-03T17:29:07.795818Z"
    },
    "papermill": {
     "duration": 0.023551,
     "end_time": "2023-07-03T17:29:07.799897",
     "exception": false,
     "start_time": "2023-07-03T17:29:07.776346",
     "status": "completed"
    },
    "tags": []
   },
   "outputs": [],
   "source": [
    "# Lines below will give you a hint or solution code\n",
    "#step_3.a.hint()\n",
    "#step_3.a.solution_plot()"
   ]
  },
  {
   "cell_type": "markdown",
   "id": "72a89f10",
   "metadata": {
    "papermill": {
     "duration": 0.013666,
     "end_time": "2023-07-03T17:29:07.828795",
     "exception": false,
     "start_time": "2023-07-03T17:29:07.815129",
     "status": "completed"
    },
    "tags": []
   },
   "source": [
    "#### Part B\n",
    "\n",
    "Does the scatter plot show a **strong** correlation between the two variables?  If so, are candies with more sugar relatively more or less popular with the survey respondents?"
   ]
  },
  {
   "cell_type": "code",
   "execution_count": 10,
   "id": "22a700e6",
   "metadata": {
    "execution": {
     "iopub.execute_input": "2023-07-03T17:29:07.858503Z",
     "iopub.status.busy": "2023-07-03T17:29:07.857961Z",
     "iopub.status.idle": "2023-07-03T17:29:07.863499Z",
     "shell.execute_reply": "2023-07-03T17:29:07.862046Z"
    },
    "papermill": {
     "duration": 0.023624,
     "end_time": "2023-07-03T17:29:07.866403",
     "exception": false,
     "start_time": "2023-07-03T17:29:07.842779",
     "status": "completed"
    },
    "tags": []
   },
   "outputs": [],
   "source": [
    "#step_3.b.hint()"
   ]
  },
  {
   "cell_type": "code",
   "execution_count": 11,
   "id": "c1a7fe87",
   "metadata": {
    "execution": {
     "iopub.execute_input": "2023-07-03T17:29:07.896220Z",
     "iopub.status.busy": "2023-07-03T17:29:07.895767Z",
     "iopub.status.idle": "2023-07-03T17:29:07.905880Z",
     "shell.execute_reply": "2023-07-03T17:29:07.904499Z"
    },
    "papermill": {
     "duration": 0.027814,
     "end_time": "2023-07-03T17:29:07.908296",
     "exception": false,
     "start_time": "2023-07-03T17:29:07.880482",
     "status": "completed"
    },
    "tags": []
   },
   "outputs": [
    {
     "data": {
      "application/javascript": [
       "parent.postMessage({\"jupyterEvent\": \"custom.exercise_interaction\", \"data\": {\"interactionType\": 3, \"questionType\": 4, \"questionId\": \"3.2_ThinkBlueScatter\", \"learnToolsVersion\": \"0.3.4\", \"valueTowardsCompletion\": 0.0, \"failureMessage\": \"\", \"exceptionClass\": \"\", \"trace\": \"\", \"outcomeType\": 4}}, \"*\")"
      ],
      "text/plain": [
       "<IPython.core.display.Javascript object>"
      ]
     },
     "metadata": {},
     "output_type": "display_data"
    },
    {
     "data": {
      "text/markdown": [
       "<span style=\"color:#33cc99\">Solution:</span> The scatter plot does not show a strong correlation between the two variables. Since there is no clear relationship between the two variables, this tells us that sugar content does not play a strong role in candy popularity."
      ],
      "text/plain": [
       "Solution: The scatter plot does not show a strong correlation between the two variables. Since there is no clear relationship between the two variables, this tells us that sugar content does not play a strong role in candy popularity."
      ]
     },
     "metadata": {},
     "output_type": "display_data"
    }
   ],
   "source": [
    "# Check your answer (Run this code cell to receive credit!)\n",
    "step_3.b.solution()"
   ]
  },
  {
   "cell_type": "markdown",
   "id": "27e3d342",
   "metadata": {
    "papermill": {
     "duration": 0.013844,
     "end_time": "2023-07-03T17:29:07.936677",
     "exception": false,
     "start_time": "2023-07-03T17:29:07.922833",
     "status": "completed"
    },
    "tags": []
   },
   "source": [
    "## Step 4: Take a closer look\n",
    "\n",
    "#### Part A\n",
    "\n",
    "Create the same scatter plot you created in **Step 3**, but now with a regression line!"
   ]
  },
  {
   "cell_type": "code",
   "execution_count": 12,
   "id": "7e14b887",
   "metadata": {
    "execution": {
     "iopub.execute_input": "2023-07-03T17:29:07.967196Z",
     "iopub.status.busy": "2023-07-03T17:29:07.966755Z",
     "iopub.status.idle": "2023-07-03T17:29:08.411316Z",
     "shell.execute_reply": "2023-07-03T17:29:08.410035Z"
    },
    "papermill": {
     "duration": 0.462973,
     "end_time": "2023-07-03T17:29:08.413961",
     "exception": false,
     "start_time": "2023-07-03T17:29:07.950988",
     "status": "completed"
    },
    "tags": []
   },
   "outputs": [
    {
     "data": {
      "application/javascript": [
       "parent.postMessage({\"jupyterEvent\": \"custom.exercise_interaction\", \"data\": {\"outcomeType\": 1, \"valueTowardsCompletion\": 0.3333333333333333, \"interactionType\": 1, \"questionType\": 2, \"questionId\": \"4.1_PlotBlueReg\", \"learnToolsVersion\": \"0.3.4\", \"failureMessage\": \"\", \"exceptionClass\": \"\", \"trace\": \"\"}}, \"*\")"
      ],
      "text/plain": [
       "<IPython.core.display.Javascript object>"
      ]
     },
     "metadata": {},
     "output_type": "display_data"
    },
    {
     "data": {
      "text/markdown": [
       "<span style=\"color:#33cc33\">Correct</span>"
      ],
      "text/plain": [
       "Correct"
      ]
     },
     "metadata": {},
     "output_type": "display_data"
    },
    {
     "data": {
      "image/png": "[encoded data removed]",
      "text/plain": [
       "<Figure size 640x480 with 1 Axes>"
      ]
     },
     "metadata": {},
     "output_type": "display_data"
    }
   ],
   "source": [
    "# Scatter plot w/ regression line showing the relationship between 'sugarpercent' and 'winpercent'\n",
    "sns.regplot(x=candy_data['sugarpercent'], y=candy_data['winpercent']) # Your code here\n",
    "\n",
    "# Check your answer\n",
    "step_4.a.check()"
   ]
  },
  {
   "cell_type": "code",
   "execution_count": 13,
   "id": "a9e5498d",
   "metadata": {
    "execution": {
     "iopub.execute_input": "2023-07-03T17:29:08.446087Z",
     "iopub.status.busy": "2023-07-03T17:29:08.445661Z",
     "iopub.status.idle": "2023-07-03T17:29:08.450997Z",
     "shell.execute_reply": "2023-07-03T17:29:08.449668Z"
    },
    "papermill": {
     "duration": 0.024608,
     "end_time": "2023-07-03T17:29:08.453791",
     "exception": false,
     "start_time": "2023-07-03T17:29:08.429183",
     "status": "completed"
    },
    "tags": []
   },
   "outputs": [],
   "source": [
    "# Lines below will give you a hint or solution code\n",
    "#step_4.a.hint()\n",
    "#step_4.a.solution_plot()"
   ]
  },
  {
   "cell_type": "markdown",
   "id": "2c2674d9",
   "metadata": {
    "papermill": {
     "duration": 0.015754,
     "end_time": "2023-07-03T17:29:08.485229",
     "exception": false,
     "start_time": "2023-07-03T17:29:08.469475",
     "status": "completed"
    },
    "tags": []
   },
   "source": [
    "#### Part B\n",
    "\n",
    "According to the plot above, is there a **slight** correlation between `'winpercent'` and `'sugarpercent'`?  What does this tell you about the candy that people tend to prefer?"
   ]
  },
  {
   "cell_type": "code",
   "execution_count": 14,
   "id": "e37f22b8",
   "metadata": {
    "execution": {
     "iopub.execute_input": "2023-07-03T17:29:08.518713Z",
     "iopub.status.busy": "2023-07-03T17:29:08.517960Z",
     "iopub.status.idle": "2023-07-03T17:29:08.522281Z",
     "shell.execute_reply": "2023-07-03T17:29:08.521327Z"
    },
    "papermill": {
     "duration": 0.023511,
     "end_time": "2023-07-03T17:29:08.524636",
     "exception": false,
     "start_time": "2023-07-03T17:29:08.501125",
     "status": "completed"
    },
    "tags": []
   },
   "outputs": [],
   "source": [
    "#step_4.b.hint()"
   ]
  },
  {
   "cell_type": "code",
   "execution_count": 15,
   "id": "6dd75e6a",
   "metadata": {
    "execution": {
     "iopub.execute_input": "2023-07-03T17:29:08.556806Z",
     "iopub.status.busy": "2023-07-03T17:29:08.556115Z",
     "iopub.status.idle": "2023-07-03T17:29:08.564334Z",
     "shell.execute_reply": "2023-07-03T17:29:08.563386Z"
    },
    "papermill": {
     "duration": 0.027313,
     "end_time": "2023-07-03T17:29:08.566954",
     "exception": false,
     "start_time": "2023-07-03T17:29:08.539641",
     "status": "completed"
    },
    "tags": []
   },
   "outputs": [
    {
     "data": {
      "application/javascript": [
       "parent.postMessage({\"jupyterEvent\": \"custom.exercise_interaction\", \"data\": {\"interactionType\": 3, \"questionType\": 4, \"questionId\": \"4.2_ThinkBlueReg\", \"learnToolsVersion\": \"0.3.4\", \"valueTowardsCompletion\": 0.0, \"failureMessage\": \"\", \"exceptionClass\": \"\", \"trace\": \"\", \"outcomeType\": 4}}, \"*\")"
      ],
      "text/plain": [
       "<IPython.core.display.Javascript object>"
      ]
     },
     "metadata": {},
     "output_type": "display_data"
    },
    {
     "data": {
      "text/markdown": [
       "<span style=\"color:#33cc99\">Solution:</span> Since the regression line has a slightly positive slope, this tells us that there is a slightly positive correlation between `'winpercent'` and `'sugarpercent'`. Thus, people have a slight preference for candies containing relatively more sugar."
      ],
      "text/plain": [
       "Solution: Since the regression line has a slightly positive slope, this tells us that there is a slightly positive correlation between `'winpercent'` and `'sugarpercent'`. Thus, people have a slight preference for candies containing relatively more sugar."
      ]
     },
     "metadata": {},
     "output_type": "display_data"
    }
   ],
   "source": [
    "# Check your answer (Run this code cell to receive credit!)\n",
    "step_4.b.solution()"
   ]
  },
  {
   "cell_type": "markdown",
   "id": "dac38b7f",
   "metadata": {
    "papermill": {
     "duration": 0.015405,
     "end_time": "2023-07-03T17:29:08.598141",
     "exception": false,
     "start_time": "2023-07-03T17:29:08.582736",
     "status": "completed"
    },
    "tags": []
   },
   "source": [
    "## Step 5: Chocolate!\n",
    "\n",
    "In the code cell below, create a scatter plot to show the relationship between `'pricepercent'` (on the horizontal x-axis) and `'winpercent'` (on the vertical y-axis). Use the `'chocolate'` column to color-code the points.  _Don't add any regression lines just yet -- you'll do that in the next step!_"
   ]
  },
  {
   "cell_type": "code",
   "execution_count": 16,
   "id": "28dae15a",
   "metadata": {
    "execution": {
     "iopub.execute_input": "2023-07-03T17:29:08.631945Z",
     "iopub.status.busy": "2023-07-03T17:29:08.631509Z",
     "iopub.status.idle": "2023-07-03T17:29:09.067426Z",
     "shell.execute_reply": "2023-07-03T17:29:09.066113Z"
    },
    "papermill": {
     "duration": 0.457062,
     "end_time": "2023-07-03T17:29:09.070929",
     "exception": false,
     "start_time": "2023-07-03T17:29:08.613867",
     "status": "completed"
    },
    "tags": []
   },
   "outputs": [
    {
     "data": {
      "application/javascript": [
       "parent.postMessage({\"jupyterEvent\": \"custom.exercise_interaction\", \"data\": {\"outcomeType\": 1, \"valueTowardsCompletion\": 0.3333333333333333, \"interactionType\": 1, \"questionType\": 2, \"questionId\": \"5_ColorScatter\", \"learnToolsVersion\": \"0.3.4\", \"failureMessage\": \"\", \"exceptionClass\": \"\", \"trace\": \"\"}}, \"*\")"
      ],
      "text/plain": [
       "<IPython.core.display.Javascript object>"
      ]
     },
     "metadata": {},
     "output_type": "display_data"
    },
    {
     "data": {
      "text/markdown": [
       "<span style=\"color:#33cc33\">Correct</span>"
      ],
      "text/plain": [
       "Correct"
      ]
     },
     "metadata": {},
     "output_type": "display_data"
    },
    {
     "data": {
      "image/png": "[encoded data removed]",
      "text/plain": [
       "<Figure size 640x480 with 1 Axes>"
      ]
     },
     "metadata": {},
     "output_type": "display_data"
    }
   ],
   "source": [
    "# Scatter plot showing the relationship between 'pricepercent', 'winpercent', and 'chocolate'\n",
    "sns.scatterplot(x='pricepercent', y='winpercent', hue='chocolate', data=candy_data) # Your code here\n",
    "\n",
    "# Check your answer\n",
    "step_5.check()"
   ]
  },
  {
   "cell_type": "code",
   "execution_count": 17,
   "id": "5992fad2",
   "metadata": {
    "execution": {
     "iopub.execute_input": "2023-07-03T17:29:09.106075Z",
     "iopub.status.busy": "2023-07-03T17:29:09.105583Z",
     "iopub.status.idle": "2023-07-03T17:29:09.111401Z",
     "shell.execute_reply": "2023-07-03T17:29:09.110126Z"
    },
    "papermill": {
     "duration": 0.026902,
     "end_time": "2023-07-03T17:29:09.114286",
     "exception": false,
     "start_time": "2023-07-03T17:29:09.087384",
     "status": "completed"
    },
    "tags": []
   },
   "outputs": [],
   "source": [
    "# Lines below will give you a hint or solution code\n",
    "#step_5.hint()\n",
    "#step_5.solution_plot()"
   ]
  },
  {
   "cell_type": "markdown",
   "id": "7897ebe0",
   "metadata": {
    "papermill": {
     "duration": 0.015981,
     "end_time": "2023-07-03T17:29:09.147230",
     "exception": false,
     "start_time": "2023-07-03T17:29:09.131249",
     "status": "completed"
    },
    "tags": []
   },
   "source": [
    "Can you see any interesting patterns in the scatter plot?  We'll investigate this plot further  by adding regression lines in the next step!\n",
    "\n",
    "## Step 6: Investigate chocolate\n",
    "\n",
    "#### Part A\n",
    "\n",
    "Create the same scatter plot you created in **Step 5**, but now with two regression lines, corresponding to (1) chocolate candies and (2) candies without chocolate."
   ]
  },
  {
   "cell_type": "code",
   "execution_count": 18,
   "id": "24da5548",
   "metadata": {
    "execution": {
     "iopub.execute_input": "2023-07-03T17:29:09.184441Z",
     "iopub.status.busy": "2023-07-03T17:29:09.183079Z",
     "iopub.status.idle": "2023-07-03T17:29:10.143449Z",
     "shell.execute_reply": "2023-07-03T17:29:10.142238Z"
    },
    "papermill": {
     "duration": 0.982545,
     "end_time": "2023-07-03T17:29:10.146089",
     "exception": false,
     "start_time": "2023-07-03T17:29:09.163544",
     "status": "completed"
    },
    "tags": []
   },
   "outputs": [
    {
     "data": {
      "application/javascript": [
       "parent.postMessage({\"jupyterEvent\": \"custom.exercise_interaction\", \"data\": {\"outcomeType\": 1, \"valueTowardsCompletion\": 0.3333333333333333, \"interactionType\": 1, \"questionType\": 2, \"questionId\": \"6.1_PlotColorReg\", \"learnToolsVersion\": \"0.3.4\", \"failureMessage\": \"\", \"exceptionClass\": \"\", \"trace\": \"\"}}, \"*\")"
      ],
      "text/plain": [
       "<IPython.core.display.Javascript object>"
      ]
     },
     "metadata": {},
     "output_type": "display_data"
    },
    {
     "data": {
      "text/markdown": [
       "<span style=\"color:#33cc33\">Correct</span>"
      ],
      "text/plain": [
       "Correct"
      ]
     },
     "metadata": {},
     "output_type": "display_data"
    },
    {
     "data": {
      "image/png": "[encoded data removed]",
      "text/plain": [
       "<Figure size 578.611x500 with 1 Axes>"
      ]
     },
     "metadata": {},
     "output_type": "display_data"
    }
   ],
   "source": [
    "# Color-coded scatter plot w/ regression lines\n",
    "sns.lmplot(x='pricepercent', y='winpercent', hue='chocolate', data=candy_data) # Your code here\n",
    "\n",
    "# Check your answer\n",
    "step_6.a.check()"
   ]
  },
  {
   "cell_type": "code",
   "execution_count": 19,
   "id": "7d7d7b3a",
   "metadata": {
    "execution": {
     "iopub.execute_input": "2023-07-03T17:29:10.184850Z",
     "iopub.status.busy": "2023-07-03T17:29:10.183750Z",
     "iopub.status.idle": "2023-07-03T17:29:10.189215Z",
     "shell.execute_reply": "2023-07-03T17:29:10.188266Z"
    },
    "papermill": {
     "duration": 0.02767,
     "end_time": "2023-07-03T17:29:10.191808",
     "exception": false,
     "start_time": "2023-07-03T17:29:10.164138",
     "status": "completed"
    },
    "tags": []
   },
   "outputs": [],
   "source": [
    "# Lines below will give you a hint or solution code\n",
    "#step_6.a.hint()\n",
    "#step_6.a.solution_plot()"
   ]
  },
  {
   "cell_type": "markdown",
   "id": "23d5783d",
   "metadata": {
    "papermill": {
     "duration": 0.017203,
     "end_time": "2023-07-03T17:29:10.226433",
     "exception": false,
     "start_time": "2023-07-03T17:29:10.209230",
     "status": "completed"
    },
    "tags": []
   },
   "source": [
    "#### Part B\n",
    "\n",
    "Using the regression lines, what conclusions can you draw about the effects of chocolate and price on candy popularity?"
   ]
  },
  {
   "cell_type": "code",
   "execution_count": 20,
   "id": "baf01a49",
   "metadata": {
    "execution": {
     "iopub.execute_input": "2023-07-03T17:29:10.264872Z",
     "iopub.status.busy": "2023-07-03T17:29:10.264101Z",
     "iopub.status.idle": "2023-07-03T17:29:10.269295Z",
     "shell.execute_reply": "2023-07-03T17:29:10.268237Z"
    },
    "papermill": {
     "duration": 0.027212,
     "end_time": "2023-07-03T17:29:10.271815",
     "exception": false,
     "start_time": "2023-07-03T17:29:10.244603",
     "status": "completed"
    },
    "tags": []
   },
   "outputs": [],
   "source": [
    "#step_6.b.hint()"
   ]
  },
  {
   "cell_type": "code",
   "execution_count": 21,
   "id": "a35a6c0e",
   "metadata": {
    "execution": {
     "iopub.execute_input": "2023-07-03T17:29:10.310917Z",
     "iopub.status.busy": "2023-07-03T17:29:10.310468Z",
     "iopub.status.idle": "2023-07-03T17:29:10.320277Z",
     "shell.execute_reply": "2023-07-03T17:29:10.319034Z"
    },
    "papermill": {
     "duration": 0.033614,
     "end_time": "2023-07-03T17:29:10.322979",
     "exception": false,
     "start_time": "2023-07-03T17:29:10.289365",
     "status": "completed"
    },
    "tags": []
   },
   "outputs": [
    {
     "data": {
      "application/javascript": [
       "parent.postMessage({\"jupyterEvent\": \"custom.exercise_interaction\", \"data\": {\"interactionType\": 3, \"questionType\": 4, \"questionId\": \"6.2_ThinkColorReg\", \"learnToolsVersion\": \"0.3.4\", \"valueTowardsCompletion\": 0.0, \"failureMessage\": \"\", \"exceptionClass\": \"\", \"trace\": \"\", \"outcomeType\": 4}}, \"*\")"
      ],
      "text/plain": [
       "<IPython.core.display.Javascript object>"
      ]
     },
     "metadata": {},
     "output_type": "display_data"
    },
    {
     "data": {
      "text/markdown": [
       "<span style=\"color:#33cc99\">Solution:</span> We'll begin with the regression line for chocolate candies. Since this line has a slightly positive slope, we can say that more expensive chocolate candies tend to be more popular (than relatively cheaper chocolate candies).  Likewise, since the regression line for candies without chocolate has a negative slope, we can say that if candies don't contain chocolate, they tend to be more popular when they are cheaper.  One important note, however, is that the dataset is quite small -- so we shouldn't invest too much trust in these patterns!  To inspire more confidence in the results, we should add more candies to the dataset."
      ],
      "text/plain": [
       "Solution: We'll begin with the regression line for chocolate candies. Since this line has a slightly positive slope, we can say that more expensive chocolate candies tend to be more popular (than relatively cheaper chocolate candies).  Likewise, since the regression line for candies without chocolate has a negative slope, we can say that if candies don't contain chocolate, they tend to be more popular when they are cheaper.  One important note, however, is that the dataset is quite small -- so we shouldn't invest too much trust in these patterns!  To inspire more confidence in the results, we should add more candies to the dataset."
      ]
     },
     "metadata": {},
     "output_type": "display_data"
    }
   ],
   "source": [
    "# Check your answer (Run this code cell to receive credit!)\n",
    "step_6.b.solution()"
   ]
  },
  {
   "cell_type": "markdown",
   "id": "ec13ce59",
   "metadata": {
    "papermill": {
     "duration": 0.016918,
     "end_time": "2023-07-03T17:29:10.357526",
     "exception": false,
     "start_time": "2023-07-03T17:29:10.340608",
     "status": "completed"
    },
    "tags": []
   },
   "source": [
    "## Step 7: Everybody loves chocolate.\n",
    "\n",
    "#### Part A\n",
    "\n",
    "Create a categorical scatter plot to highlight the relationship between `'chocolate'` and `'winpercent'`.  Put `'chocolate'` on the (horizontal) x-axis, and `'winpercent'` on the (vertical) y-axis."
   ]
  },
  {
   "cell_type": "code",
   "execution_count": 22,
   "id": "a4b83c76",
   "metadata": {
    "execution": {
     "iopub.execute_input": "2023-07-03T17:29:10.394176Z",
     "iopub.status.busy": "2023-07-03T17:29:10.393674Z",
     "iopub.status.idle": "2023-07-03T17:29:10.950436Z",
     "shell.execute_reply": "2023-07-03T17:29:10.948850Z"
    },
    "papermill": {
     "duration": 0.58011,
     "end_time": "2023-07-03T17:29:10.954822",
     "exception": false,
     "start_time": "2023-07-03T17:29:10.374712",
     "status": "completed"
    },
    "tags": []
   },
   "outputs": [
    {
     "data": {
      "application/javascript": [
       "parent.postMessage({\"jupyterEvent\": \"custom.exercise_interaction\", \"data\": {\"outcomeType\": 1, \"valueTowardsCompletion\": 0.3333333333333333, \"interactionType\": 1, \"questionType\": 2, \"questionId\": \"7.1_PlotSwarm\", \"learnToolsVersion\": \"0.3.4\", \"failureMessage\": \"\", \"exceptionClass\": \"\", \"trace\": \"\"}}, \"*\")"
      ],
      "text/plain": [
       "<IPython.core.display.Javascript object>"
      ]
     },
     "metadata": {},
     "output_type": "display_data"
    },
    {
     "data": {
      "text/markdown": [
       "<span style=\"color:#33cc33\">Correct</span>"
      ],
      "text/plain": [
       "Correct"
      ]
     },
     "metadata": {},
     "output_type": "display_data"
    },
    {
     "data": {
      "image/png": "[encoded data removed]",
      "text/plain": [
       "<Figure size 640x480 with 1 Axes>"
      ]
     },
     "metadata": {},
     "output_type": "display_data"
    }
   ],
   "source": [
    "# Scatter plot showing the relationship between 'chocolate' and 'winpercent'\n",
    "sns.swarmplot(x=\"chocolate\", y=\"winpercent\", data=candy_data) # Your code here\n",
    "\n",
    "# Check your answer\n",
    "step_7.a.check()"
   ]
  },
  {
   "cell_type": "code",
   "execution_count": 23,
   "id": "835a8828",
   "metadata": {
    "execution": {
     "iopub.execute_input": "2023-07-03T17:29:11.004869Z",
     "iopub.status.busy": "2023-07-03T17:29:11.003114Z",
     "iopub.status.idle": "2023-07-03T17:29:11.009061Z",
     "shell.execute_reply": "2023-07-03T17:29:11.008054Z"
    },
    "papermill": {
     "duration": 0.028856,
     "end_time": "2023-07-03T17:29:11.012108",
     "exception": false,
     "start_time": "2023-07-03T17:29:10.983252",
     "status": "completed"
    },
    "tags": []
   },
   "outputs": [],
   "source": [
    "# Lines below will give you a hint or solution code\n",
    "#step_7.a.hint()\n",
    "#step_7.a.solution_plot()"
   ]
  },
  {
   "cell_type": "markdown",
   "id": "4141047e",
   "metadata": {
    "papermill": {
     "duration": 0.019085,
     "end_time": "2023-07-03T17:29:11.050064",
     "exception": false,
     "start_time": "2023-07-03T17:29:11.030979",
     "status": "completed"
    },
    "tags": []
   },
   "source": [
    "#### Part B\n",
    "\n",
    "You decide to dedicate a section of your report to the fact that chocolate candies tend to be more popular than candies without chocolate.  Which plot is more appropriate to tell this story: the plot from **Step 6**, or the plot from **Step 7**?"
   ]
  },
  {
   "cell_type": "code",
   "execution_count": 24,
   "id": "e82259dc",
   "metadata": {
    "execution": {
     "iopub.execute_input": "2023-07-03T17:29:11.089724Z",
     "iopub.status.busy": "2023-07-03T17:29:11.088075Z",
     "iopub.status.idle": "2023-07-03T17:29:11.094820Z",
     "shell.execute_reply": "2023-07-03T17:29:11.093206Z"
    },
    "papermill": {
     "duration": 0.029113,
     "end_time": "2023-07-03T17:29:11.097557",
     "exception": false,
     "start_time": "2023-07-03T17:29:11.068444",
     "status": "completed"
    },
    "tags": []
   },
   "outputs": [],
   "source": [
    "#step_7.b.hint()"
   ]
  },
  {
   "cell_type": "code",
   "execution_count": 25,
   "id": "6abd35e6",
   "metadata": {
    "execution": {
     "iopub.execute_input": "2023-07-03T17:29:11.137477Z",
     "iopub.status.busy": "2023-07-03T17:29:11.136993Z",
     "iopub.status.idle": "2023-07-03T17:29:11.146669Z",
     "shell.execute_reply": "2023-07-03T17:29:11.145816Z"
    },
    "papermill": {
     "duration": 0.032125,
     "end_time": "2023-07-03T17:29:11.148824",
     "exception": false,
     "start_time": "2023-07-03T17:29:11.116699",
     "status": "completed"
    },
    "tags": []
   },
   "outputs": [
    {
     "data": {
      "application/javascript": [
       "parent.postMessage({\"jupyterEvent\": \"custom.exercise_interaction\", \"data\": {\"interactionType\": 3, \"questionType\": 4, \"questionId\": \"7.2_ThinkSwarm\", \"learnToolsVersion\": \"0.3.4\", \"valueTowardsCompletion\": 0.0, \"failureMessage\": \"\", \"exceptionClass\": \"\", \"trace\": \"\", \"outcomeType\": 4}}, \"*\")"
      ],
      "text/plain": [
       "<IPython.core.display.Javascript object>"
      ]
     },
     "metadata": {},
     "output_type": "display_data"
    },
    {
     "data": {
      "text/markdown": [
       "<span style=\"color:#33cc99\">Solution:</span> In this case, the categorical scatter plot from **Step 7** is the more appropriate plot. While both plots tell the desired story, the plot from **Step 6** conveys far more information that could distract from the main point."
      ],
      "text/plain": [
       "Solution: In this case, the categorical scatter plot from **Step 7** is the more appropriate plot. While both plots tell the desired story, the plot from **Step 6** conveys far more information that could distract from the main point."
      ]
     },
     "metadata": {},
     "output_type": "display_data"
    }
   ],
   "source": [
    "# Check your answer (Run this code cell to receive credit!)\n",
    "step_7.b.solution()"
   ]
  },
  {
   "cell_type": "markdown",
   "id": "8308ba8f",
   "metadata": {
    "papermill": {
     "duration": 0.017969,
     "end_time": "2023-07-03T17:29:11.185049",
     "exception": false,
     "start_time": "2023-07-03T17:29:11.167080",
     "status": "completed"
    },
    "tags": []
   },
   "source": [
    "## Keep going\n",
    "\n",
    "Explore **[histograms and density plots](https://www.kaggle.com/alexisbcook/distributions)**."
   ]
  },
  {
   "cell_type": "markdown",
   "id": "ab5fb4c6",
   "metadata": {
    "papermill": {
     "duration": 0.018068,
     "end_time": "2023-07-03T17:29:11.221327",
     "exception": false,
     "start_time": "2023-07-03T17:29:11.203259",
     "status": "completed"
    },
    "tags": []
   },
   "source": [
    "---\n",
    "\n",
    "\n",
    "\n",
    "\n",
    "*Have questions or comments? Visit the [course discussion forum](https://www.kaggle.com/learn/data-visualization/discussion) to chat with other learners.*"
   ]
  }
 ],
 "metadata": {
  "kernelspec": {
   "display_name": "Python 3",
   "language": "python",
   "name": "python3"
  },
  "language_info": {
   "codemirror_mode": {
    "name": "ipython",
    "version": 3
   },
   "file_extension": ".py",
   "mimetype": "text/x-python",
   "name": "python",
   "nbconvert_exporter": "python",
   "pygments_lexer": "ipython3",
   "version": "3.10.10"
  },
  "papermill": {
   "default_parameters": {},
   "duration": 22.976499,
   "end_time": "2023-07-03T17:29:13.645561",
   "environment_variables": {},
   "exception": null,
   "input_path": "__notebook__.ipynb",
   "output_path": "__notebook__.ipynb",
   "parameters": {},
   "start_time": "2023-07-03T17:28:50.669062",
   "version": "2.4.0"
  }
 },
 "nbformat": 4,
 "nbformat_minor": 5
}
